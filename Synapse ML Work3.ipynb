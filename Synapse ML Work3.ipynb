request_spending = {
    "Mahek":{"balance":3000.00,
              "transactions":[{"amount":-9000.00,"category":"Creatives"},{"amount":7000.00,"category":"Sponsor"},{"amount":-2000.00,"category":"Prize-Money"}]},
     "Arham":{"balance":5000.00,
               "transactions":[{"amount":8000.00,"category":"Stalls"},{"amount":7500.00, "category":"Seminars"}]},
    "Unnati":{"balance": 3500.00,
              "transactions":[{"amount":-5000.00,"category":"Attraction"},{"amount":2500.00,"category":"Promo"},{"amount":-900.00,"category":"Lighting"}, {"amount":-3000.00,"category":"Games"}]},
    "Gaurang":{"balance":2000.00,
               "transactions":[{"amount":-1500.00,"category":"Website"},{"amount":-1000.00,"category":"C2C"}, {"amount":-500.00, "category":"Posters"}]}}


l1=list(request_spending)      #creating a list to get account_ids
category=""                           #creating string to get categories later on                                    

def total_spending(request_spending, category):                 #to get total money spent
    ts=0
    tsl=[]
    for y in request_spending.values():                                                #fetching values (dictionary containing balance and transactions
        for i in range (0,len(list(y.values())[1])):                                    #fetching the length of transaction value's dictionary
                                                                                                            #list(y.values())[1] will give [{'amount': -9000.0, 'category': 'Creatives'},
                                                                                                            #{'amount': 7000.0, 'category': 'Sponsor'}, {'amount': -2000.0, 'category': 'Prize-Mone'}]..............
            
            if y[list(y)[1]][i]["amount"] < 0:
                ts+=y[list(y)[1]][i]["amount"]                                      #condition that if amount is in negative it has been spent and adding all the money spent to get the total
                category +=y[list(y)[1]][i]["category"]                         # concatenation of string with categories
        tsl.append((abs(ts), category))
        ts=0
        category=""                                                                           #returning to initial vales for next loop
    return tsl                                                                                    #getting the spending listto main

def account_balance(request_spending):                             #function to show balance amount
    tp=0
    tpl=[]
    for y in request_spending.values():                                       
        tpl.append(y["balance"])
    return tpl

def money_owed(request_spending):                                    #function to show money owed 
    to=0
    tol=[]
    for y in request_spending.values():
        for i in range (0,len(list(y.values())[1])):
            to+=y[list(y)[1]][i]["amount"]
        if to<0:
            tol.append(abs(to))
        else:
            tol.append(0)
        to=0
    return tol                                                                           #the other two functions have the same working as the first one

res = total_spending(request_spending, category)            #calling the functions
res1 = account_balance(request_spending)
res2 = money_owed(request_spending)

for i in range (0, len(res)):
    print(res[i], "was spent by", l1[i])                                    #printing the function with appropriate statements
    print (l1[i],"has balance left",res1[i])
    print(l1[i],"has",res2[i],"owed")
    print("\n")    

#output =
##(11000.0, 'CreativesPrize-Money') was spent by Mahek
##Mahek has balance left 3000.0
##Mahek has 4000.0 owed
##
##
##(0, '') was spent by Arham
##Arham has balance left 5000.0
##Arham has 0 owed
##
##
##(8900.0, 'AttractionLightingGames') was spent by Unnati
##Unnati has balance left 3500.0
##Unnati has 6400.0 owed
##
##
##(3000.0, 'WebsiteC2CPosters') was spent by Gaurang
##Gaurang has balance left 2000.0
##Gaurang has 3000.0 owed




