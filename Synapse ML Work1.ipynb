from itertools import combinations
#importing combinations

djs = { "Kevin": {"Halsey","Taylor Swift","Mitski","Joji","Shawn Mendes","Sabrina Carpenter","Nicky Minaj","Conan Gray","One Direction","Justin Bieber"},
        "Stuart": {"Kendrick Lamar","Steve Lacy","Tyler the Creator","Joji","TheWeeknd","Coldplay","Kanye West","Travis Scott","Frank Ocean","Brent Faiyaz"},
        "Bob":{"Conan Gray","Joji","Dove Cameron","Mitski","Arctic Monkeys","Steve Lacy","Kendrick Lamar","Isabel LaRosa","Shawn Mendes","Coldplay"},
        "Edith":{"Metallica","Billie Eilish","TheWeeknd","Mitski","NF","Conan Gray","Kendrick Lamar","Nicky Minaj","Kanye West","Coldplay"}}

def share_percent(s1,s2):
   return (len(s1&s2)/len(s1) * 100)
#calculating the percentage of common elements between two sets each

dj_pairs=[]+list(combinations(djs.items(),2))
#combining two two key:value pairs to find which match most

def pairs(lst):
    pwp=[]
    #empty list to add pairs having percentage equal to or above 30%
    
    for ele in lst:
            per = share_percent(ele[0][1],ele[1][1])                 #calling share_percent function
            if per>=30:
                pwp.append(list(((ele[0][0],ele[1][0]),per)))        #appending pwp according to condition
    if pwp:
        print (sorted(pwp, key=lambda x:x[1])[::-1])                #sorting in descending order according to the percentage

pairs(dj_pairs)                                                                          #calling pairs function

#output = [[('Bob', 'Edith'), 40.0], [('Stuart', 'Edith'), 40.0], [('Stuart', 'Bob'), 40.0], [('Kevin', 'Bob'), 40.0], [('Kevin', 'Edith'), 30.0]]





            







