gadgets = [("Explosive Batarangs",3,True),("Batarangs",5,True),("Smoke Pellets",0,False),("Tear Gas Grenades",2,True),("Night Vision Goggles",1,True),("Batclaw",0,False),
           ("Grapple Gun",3,True),("Batsignal",0,False),("Utility Belt",1,True),("Batmobile Tires",4,True)]


def sorting(llst):
    sort1 = []+sorted(llst, key = lambda x:x[0])[::-1]
    #first sorting alphabetically and keeping in reverse order i.e. from z-a
    
    sort2 = []+sorted(sort1, key = lambda x:x[1])[::-1]
    #second sorting acc to amount and once again reversing to get alphabetical-wise a-z and amount-wise 9-0 sorting
    
    return(sort2)

print(sorting(gadgets))         #printing

#output = [('Batarangs', 5, True), ('Batmobile Tires', 4, True), ('Explosive Batarangs', 3, True),
#('Grapple Gun', 3, True), ('Tear Gas Grenades', 2, True), ('Night Vision Goggles', 1, True), ('Utility Belt', 1, True), ('Batclaw', 0, False), ('Batsignal', 0, False), ('Smoke Pellets', 0, False)]
