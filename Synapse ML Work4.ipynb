customers=[[5,2],[5,4],[10,3],[20,1]]
wait_list=[]                                             #creating empty list to get waiting time of customers from the main list

def wait_time(lst):
    arr_time=0 
    for i in range (0,len(lst)):
        for j in range (i,i+1):                                                                 #calculating wait time from adjacent values and appending it to wait_list
            if lst[j][0]<arr_time:
                wait_list.append(arr_time-lst[j][0]+lst[j][1])               #if arriving time is greater than tea making time the execute this
                arr_time +=lst[j][1]                                                        #adjusting arriving time accordingly
            else:
                wait_list.append(lst[j][1])
                arr_time =lst[j][0]+lst[j][1]                                           
                
    return sum(wait_list)/len(lst)               #calculating wait time

print("Total Wait Time is: ", wait_time(customers))          #printing

#output = Total Wait Time is:  3.25
        
