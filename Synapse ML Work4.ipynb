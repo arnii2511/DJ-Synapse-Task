customers=[[5,2],[5,6],[10,4],[20,1]]
wait_list=[]                                                   #creating empty list to get waiting time of customers from the main list
def wait_time(lst):
    for y in lst:
        wait_list.append(y[1])
    return sum(wait_list)/len(lst)               #calculating wait time

print("Total Wait Time is: ", wait_time(customers))          #printing

#output = Total Wait Time is:  3.25
        
